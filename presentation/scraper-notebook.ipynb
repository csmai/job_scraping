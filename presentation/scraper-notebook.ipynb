{
 "cells": [
  {
   "cell_type": "code",
   "execution_count": 32,
   "metadata": {},
   "outputs": [],
   "source": [
    "import requests\n",
    "from bs4 import BeautifulSoup\n",
    "import pandas as pd\n",
    "import time\n",
    "import random"
   ]
  },
  {
   "cell_type": "code",
   "execution_count": 33,
   "metadata": {},
   "outputs": [],
   "source": [
    "# Set user agent in headers to mimic a web browser request\n",
    "headers = {\n",
    "    \"User-Agent\": \"Mozilla/5.0 (Windows NT 10.0; Win64; x64) AppleWebKit/537.36 (KHTML, like Gecko) Chrome/91.0.4472.124 Safari/537.36\"\n",
    "}\n",
    "\n",
    "URL = \"https://www.profession.hu/allasok/budapest/1,0,23,data%20engineer%401%401?keywordsearch\"\n",
    "# conducting a request of the stated URL above:\n",
    "page = requests.get(URL, headers=headers)"
   ]
  },
  {
   "cell_type": "code",
   "execution_count": 34,
   "metadata": {},
   "outputs": [],
   "source": [
    "# Function to extract job titles and job links from the soup\n",
    "def extract_job_info_from_result(soup):\n",
    "    job_info = []\n",
    "    # for a_job_name in soup.find_all(\"a\", attrs={\"data-job-name\": True}):\n",
    "    #     job_title = a_job_name[\"data-job-name\"]\n",
    "    #     # Get the previous sibling that contains the job link\n",
    "    #     a_job_link = a_job_name.find_previous(\"a\")\n",
    "    #     job_link = a_job_link\n",
    "    #     if a_job_link and \"href\" in a_job_link.attrs:\n",
    "    #         job_link = a_job_link[\"href\"]\n",
    "    #     job_info.append({\"job_title\": job_title, \"job_link\": job_link})\n",
    "    # return job_info\n",
    "    job_items = soup.find_all(\"li\", class_=\"card\")\n",
    "    for item in job_items:\n",
    "        job_title = item.find(\"h2\", class_=\"highlight\").get_text(strip=True)\n",
    "        company_name = item.find(\"div\", class_=\"job-card__company-name\").a.get_text(\n",
    "            strip=True\n",
    "        )\n",
    "        job_location = item.find(\"div\", class_=\"job-card__company-address\").span[\n",
    "            \"title\"\n",
    "        ]\n",
    "        job_summary = item.find(\"div\", class_=\"card-text\").get_text(strip=True)\n",
    "        job_link = item.find(\"a\", class_=\"btn-primary\")[\"href\"]\n",
    "\n",
    "        job_info.append(\n",
    "            {\n",
    "                \"job_title\": job_title,\n",
    "                \"company_name\": company_name,\n",
    "                \"location\": job_location,\n",
    "                \"job_summary\": job_summary,\n",
    "                \"job_link\": job_link,\n",
    "            }\n",
    "        )\n",
    "\n",
    "    return job_info"
   ]
  },
  {
   "cell_type": "code",
   "execution_count": 35,
   "metadata": {},
   "outputs": [],
   "source": [
    "# Function to scrape the page\n",
    "def scrape_page(url, headers):\n",
    "    page = requests.get(url, headers=headers)\n",
    "    if page.status_code == 200:\n",
    "        soup = BeautifulSoup(page.text, \"html.parser\")\n",
    "        job_info = extract_job_info_from_result(soup)\n",
    "        return pd.DataFrame(job_info)\n",
    "    else:\n",
    "        print(\"Failed to retrieve the page. Status code:\", page.status_code)\n",
    "        return None"
   ]
  },
  {
   "cell_type": "code",
   "execution_count": 36,
   "metadata": {},
   "outputs": [
    {
     "name": "stdout",
     "output_type": "stream",
     "text": [
      "An error occurred: 'NoneType' object has no attribute 'get_text'\n"
     ]
    }
   ],
   "source": [
    "# Perform scraping with rate limiting\n",
    "try:\n",
    "    # Scrape the initial page\n",
    "    job_info_df = scrape_page(URL, headers)\n",
    "\n",
    "    if job_info_df is not None:\n",
    "        # Wait for a random amount of time between 5 to 10 seconds before making the next request\n",
    "        time.sleep(random.uniform(5, 10))\n",
    "\n",
    "        # Print the DataFrame\n",
    "        print(\"Job Info DataFrame:\")\n",
    "        print(job_info_df.head())\n",
    "        print(job_info_df[\"job_link\"].iloc[3])\n",
    "except Exception as e:\n",
    "    print(\"An error occurred:\", str(e))\n"
   ]
  },
  {
   "cell_type": "code",
   "execution_count": 37,
   "metadata": {},
   "outputs": [
    {
     "data": {
      "text/html": [
       "<div>\n",
       "<style scoped>\n",
       "    .dataframe tbody tr th:only-of-type {\n",
       "        vertical-align: middle;\n",
       "    }\n",
       "\n",
       "    .dataframe tbody tr th {\n",
       "        vertical-align: top;\n",
       "    }\n",
       "\n",
       "    .dataframe thead th {\n",
       "        text-align: right;\n",
       "    }\n",
       "</style>\n",
       "<table border=\"1\" class=\"dataframe\">\n",
       "  <thead>\n",
       "    <tr style=\"text-align: right;\">\n",
       "      <th></th>\n",
       "      <th>tob_title</th>\n",
       "      <th>company_name</th>\n",
       "      <th>location</th>\n",
       "      <th>job_summary</th>\n",
       "      <th>job_link</th>\n",
       "    </tr>\n",
       "  </thead>\n",
       "  <tbody>\n",
       "    <tr>\n",
       "      <th>0</th>\n",
       "      <td>DATA</td>\n",
       "      <td>UNIQA Raiffeisen Software Service Kft.</td>\n",
       "      <td>1053 Budapest</td>\n",
       "      <td>Adatbázisok és adatáramlási architektúrák terv...</td>\n",
       "      <td>https://www.profession.hu/allas/data-engineer-...</td>\n",
       "    </tr>\n",
       "    <tr>\n",
       "      <th>1</th>\n",
       "      <td>data</td>\n",
       "      <td>OTP Bank Nyrt.</td>\n",
       "      <td>Budapest, 13. kerület</td>\n",
       "      <td>Elsősorban a területünk riporting rendszerét f...</td>\n",
       "      <td>https://www.profession.hu/allas/uzleti-adatmod...</td>\n",
       "    </tr>\n",
       "    <tr>\n",
       "      <th>2</th>\n",
       "      <td>data</td>\n",
       "      <td>K&amp;H BANK ZRT. (ICT)</td>\n",
       "      <td>1095 Budapest, Lechner Ödön fasor 9. K. épület</td>\n",
       "      <td>Senior Data Engineerként a következő feladatai...</td>\n",
       "      <td>https://www.profession.hu/allas/senior-data-en...</td>\n",
       "    </tr>\n",
       "    <tr>\n",
       "      <th>3</th>\n",
       "      <td>Data</td>\n",
       "      <td>Richter Gedeon Nyrt.</td>\n",
       "      <td>Budapest</td>\n",
       "      <td>Low-code, no-code Power Platform megoldások fe...</td>\n",
       "      <td>https://www.profession.hu/allas/data-engineer-...</td>\n",
       "    </tr>\n",
       "    <tr>\n",
       "      <th>4</th>\n",
       "      <td>Data</td>\n",
       "      <td>Tech People Hungary Kft.</td>\n",
       "      <td>Budapest, XI. kerület</td>\n",
       "      <td>Ensuring development tasks to support new rele...</td>\n",
       "      <td>https://www.profession.hu/allas/senior-data-en...</td>\n",
       "    </tr>\n",
       "  </tbody>\n",
       "</table>\n",
       "</div>"
      ],
      "text/plain": [
       "  tob_title                            company_name  \\\n",
       "0      DATA  UNIQA Raiffeisen Software Service Kft.   \n",
       "1      data                          OTP Bank Nyrt.   \n",
       "2      data                     K&H BANK ZRT. (ICT)   \n",
       "3      Data                    Richter Gedeon Nyrt.   \n",
       "4      Data                Tech People Hungary Kft.   \n",
       "\n",
       "                                         location  \\\n",
       "0                                   1053 Budapest   \n",
       "1                           Budapest, 13. kerület   \n",
       "2  1095 Budapest, Lechner Ödön fasor 9. K. épület   \n",
       "3                                        Budapest   \n",
       "4                           Budapest, XI. kerület   \n",
       "\n",
       "                                         job_summary  \\\n",
       "0  Adatbázisok és adatáramlási architektúrák terv...   \n",
       "1  Elsősorban a területünk riporting rendszerét f...   \n",
       "2  Senior Data Engineerként a következő feladatai...   \n",
       "3  Low-code, no-code Power Platform megoldások fe...   \n",
       "4  Ensuring development tasks to support new rele...   \n",
       "\n",
       "                                            job_link  \n",
       "0  https://www.profession.hu/allas/data-engineer-...  \n",
       "1  https://www.profession.hu/allas/uzleti-adatmod...  \n",
       "2  https://www.profession.hu/allas/senior-data-en...  \n",
       "3  https://www.profession.hu/allas/data-engineer-...  \n",
       "4  https://www.profession.hu/allas/senior-data-en...  "
      ]
     },
     "execution_count": 37,
     "metadata": {},
     "output_type": "execute_result"
    }
   ],
   "source": [
    "job_info_df.head()"
   ]
  }
 ],
 "metadata": {
  "kernelspec": {
   "display_name": "MaCsLearnAdv",
   "language": "python",
   "name": "python3"
  },
  "language_info": {
   "codemirror_mode": {
    "name": "ipython",
    "version": 3
   },
   "file_extension": ".py",
   "mimetype": "text/x-python",
   "name": "python",
   "nbconvert_exporter": "python",
   "pygments_lexer": "ipython3",
   "version": "3.11.4"
  },
  "orig_nbformat": 4
 },
 "nbformat": 4,
 "nbformat_minor": 2
}
